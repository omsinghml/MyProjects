{
 "cells": [
  {
   "cell_type": "code",
   "execution_count": 1,
   "id": "1071887b",
   "metadata": {},
   "outputs": [],
   "source": [
    "import numpy as np\n",
    "import pandas as pd\n",
    "import matplotlib.pyplot as plt"
   ]
  },
  {
   "cell_type": "code",
   "execution_count": 19,
   "id": "6dfeed37",
   "metadata": {},
   "outputs": [
    {
     "data": {
      "text/html": [
       "<div>\n",
       "<style scoped>\n",
       "    .dataframe tbody tr th:only-of-type {\n",
       "        vertical-align: middle;\n",
       "    }\n",
       "\n",
       "    .dataframe tbody tr th {\n",
       "        vertical-align: top;\n",
       "    }\n",
       "\n",
       "    .dataframe thead th {\n",
       "        text-align: right;\n",
       "    }\n",
       "</style>\n",
       "<table border=\"1\" class=\"dataframe\">\n",
       "  <thead>\n",
       "    <tr style=\"text-align: right;\">\n",
       "      <th></th>\n",
       "      <th>male</th>\n",
       "      <th>age</th>\n",
       "      <th>education</th>\n",
       "      <th>currentSmoker</th>\n",
       "      <th>cigsPerDay</th>\n",
       "      <th>BPMeds</th>\n",
       "      <th>prevalentStroke</th>\n",
       "      <th>prevalentHyp</th>\n",
       "      <th>diabetes</th>\n",
       "      <th>totChol</th>\n",
       "      <th>sysBP</th>\n",
       "      <th>diaBP</th>\n",
       "      <th>BMI</th>\n",
       "      <th>heartRate</th>\n",
       "      <th>glucose</th>\n",
       "      <th>TenYearCHD</th>\n",
       "    </tr>\n",
       "  </thead>\n",
       "  <tbody>\n",
       "    <tr>\n",
       "      <th>0</th>\n",
       "      <td>1</td>\n",
       "      <td>39</td>\n",
       "      <td>4.0</td>\n",
       "      <td>0</td>\n",
       "      <td>0.0</td>\n",
       "      <td>0.0</td>\n",
       "      <td>0</td>\n",
       "      <td>0</td>\n",
       "      <td>0</td>\n",
       "      <td>195.0</td>\n",
       "      <td>106.0</td>\n",
       "      <td>70.0</td>\n",
       "      <td>26.97</td>\n",
       "      <td>80.0</td>\n",
       "      <td>77.0</td>\n",
       "      <td>0</td>\n",
       "    </tr>\n",
       "    <tr>\n",
       "      <th>1</th>\n",
       "      <td>0</td>\n",
       "      <td>46</td>\n",
       "      <td>2.0</td>\n",
       "      <td>0</td>\n",
       "      <td>0.0</td>\n",
       "      <td>0.0</td>\n",
       "      <td>0</td>\n",
       "      <td>0</td>\n",
       "      <td>0</td>\n",
       "      <td>250.0</td>\n",
       "      <td>121.0</td>\n",
       "      <td>81.0</td>\n",
       "      <td>28.73</td>\n",
       "      <td>95.0</td>\n",
       "      <td>76.0</td>\n",
       "      <td>0</td>\n",
       "    </tr>\n",
       "    <tr>\n",
       "      <th>2</th>\n",
       "      <td>1</td>\n",
       "      <td>48</td>\n",
       "      <td>1.0</td>\n",
       "      <td>1</td>\n",
       "      <td>20.0</td>\n",
       "      <td>0.0</td>\n",
       "      <td>0</td>\n",
       "      <td>0</td>\n",
       "      <td>0</td>\n",
       "      <td>245.0</td>\n",
       "      <td>127.5</td>\n",
       "      <td>80.0</td>\n",
       "      <td>25.34</td>\n",
       "      <td>75.0</td>\n",
       "      <td>70.0</td>\n",
       "      <td>0</td>\n",
       "    </tr>\n",
       "    <tr>\n",
       "      <th>3</th>\n",
       "      <td>0</td>\n",
       "      <td>61</td>\n",
       "      <td>3.0</td>\n",
       "      <td>1</td>\n",
       "      <td>30.0</td>\n",
       "      <td>0.0</td>\n",
       "      <td>0</td>\n",
       "      <td>1</td>\n",
       "      <td>0</td>\n",
       "      <td>225.0</td>\n",
       "      <td>150.0</td>\n",
       "      <td>95.0</td>\n",
       "      <td>28.58</td>\n",
       "      <td>65.0</td>\n",
       "      <td>103.0</td>\n",
       "      <td>1</td>\n",
       "    </tr>\n",
       "    <tr>\n",
       "      <th>4</th>\n",
       "      <td>0</td>\n",
       "      <td>46</td>\n",
       "      <td>3.0</td>\n",
       "      <td>1</td>\n",
       "      <td>23.0</td>\n",
       "      <td>0.0</td>\n",
       "      <td>0</td>\n",
       "      <td>0</td>\n",
       "      <td>0</td>\n",
       "      <td>285.0</td>\n",
       "      <td>130.0</td>\n",
       "      <td>84.0</td>\n",
       "      <td>23.10</td>\n",
       "      <td>85.0</td>\n",
       "      <td>85.0</td>\n",
       "      <td>0</td>\n",
       "    </tr>\n",
       "  </tbody>\n",
       "</table>\n",
       "</div>"
      ],
      "text/plain": [
       "   male  age  education  currentSmoker  cigsPerDay  BPMeds  prevalentStroke  \\\n",
       "0     1   39        4.0              0         0.0     0.0                0   \n",
       "1     0   46        2.0              0         0.0     0.0                0   \n",
       "2     1   48        1.0              1        20.0     0.0                0   \n",
       "3     0   61        3.0              1        30.0     0.0                0   \n",
       "4     0   46        3.0              1        23.0     0.0                0   \n",
       "\n",
       "   prevalentHyp  diabetes  totChol  sysBP  diaBP    BMI  heartRate  glucose  \\\n",
       "0             0         0    195.0  106.0   70.0  26.97       80.0     77.0   \n",
       "1             0         0    250.0  121.0   81.0  28.73       95.0     76.0   \n",
       "2             0         0    245.0  127.5   80.0  25.34       75.0     70.0   \n",
       "3             1         0    225.0  150.0   95.0  28.58       65.0    103.0   \n",
       "4             0         0    285.0  130.0   84.0  23.10       85.0     85.0   \n",
       "\n",
       "   TenYearCHD  \n",
       "0           0  \n",
       "1           0  \n",
       "2           0  \n",
       "3           1  \n",
       "4           0  "
      ]
     },
     "execution_count": 19,
     "metadata": {},
     "output_type": "execute_result"
    }
   ],
   "source": [
    "dataset = pd.read_csv(r\"D:\\Data\\logistic regression\\heart attack prediction\\framingham.csv\")\n",
    "dataset.head()"
   ]
  },
  {
   "cell_type": "code",
   "execution_count": 20,
   "id": "8ecc221d",
   "metadata": {},
   "outputs": [
    {
     "data": {
      "text/plain": [
       "male               False\n",
       "age                False\n",
       "education           True\n",
       "currentSmoker      False\n",
       "cigsPerDay          True\n",
       "BPMeds              True\n",
       "prevalentStroke    False\n",
       "prevalentHyp       False\n",
       "diabetes           False\n",
       "totChol             True\n",
       "sysBP              False\n",
       "diaBP              False\n",
       "BMI                 True\n",
       "heartRate           True\n",
       "glucose             True\n",
       "TenYearCHD         False\n",
       "dtype: bool"
      ]
     },
     "execution_count": 20,
     "metadata": {},
     "output_type": "execute_result"
    }
   ],
   "source": [
    "dataset.isnull().any()"
   ]
  },
  {
   "cell_type": "code",
   "execution_count": 21,
   "id": "2aeaed18",
   "metadata": {},
   "outputs": [
    {
     "data": {
      "text/plain": [
       "male                 0\n",
       "age                  0\n",
       "education          105\n",
       "currentSmoker        0\n",
       "cigsPerDay          29\n",
       "BPMeds              53\n",
       "prevalentStroke      0\n",
       "prevalentHyp         0\n",
       "diabetes             0\n",
       "totChol             50\n",
       "sysBP                0\n",
       "diaBP                0\n",
       "BMI                 19\n",
       "heartRate            1\n",
       "glucose            388\n",
       "TenYearCHD           0\n",
       "dtype: int64"
      ]
     },
     "execution_count": 21,
     "metadata": {},
     "output_type": "execute_result"
    }
   ],
   "source": [
    "dataset.isna().sum()"
   ]
  },
  {
   "cell_type": "code",
   "execution_count": 22,
   "id": "1893cb7b",
   "metadata": {},
   "outputs": [
    {
     "data": {
      "application/javascript": [
       "\n",
       "        if (window._pyforest_update_imports_cell) { window._pyforest_update_imports_cell('import seaborn as sns'); }\n",
       "    "
      ],
      "text/plain": [
       "<IPython.core.display.Javascript object>"
      ]
     },
     "metadata": {},
     "output_type": "display_data"
    },
    {
     "data": {
      "text/plain": [
       "<AxesSubplot: >"
      ]
     },
     "execution_count": 22,
     "metadata": {},
     "output_type": "execute_result"
    },
    {
     "data": {
      "image/png": "[encoded data removed]",
      "text/plain": [
       "<Figure size 432x288 with 1 Axes>"
      ]
     },
     "metadata": {
      "needs_background": "light"
     },
     "output_type": "display_data"
    }
   ],
   "source": [
    "sns.heatmap(dataset.isnull(), yticklabels=False, cbar=False, cmap='viridis')"
   ]
  },
  {
   "cell_type": "code",
   "execution_count": 23,
   "id": "b44dbbea",
   "metadata": {},
   "outputs": [],
   "source": [
    "dataset.dropna(subset = ['education', 'currentSmoker', 'cigsPerDay', 'BPMeds', 'totChol', 'BMI', 'heartRate'],\n",
    "                         inplace = True)\n"
   ]
  },
  {
   "cell_type": "code",
   "execution_count": 24,
   "id": "b391c1de",
   "metadata": {},
   "outputs": [
    {
     "data": {
      "text/plain": [
       "male                 0\n",
       "age                  0\n",
       "education            0\n",
       "currentSmoker        0\n",
       "cigsPerDay           0\n",
       "BPMeds               0\n",
       "prevalentStroke      0\n",
       "prevalentHyp         0\n",
       "diabetes             0\n",
       "totChol              0\n",
       "sysBP                0\n",
       "diaBP                0\n",
       "BMI                  0\n",
       "heartRate            0\n",
       "glucose            331\n",
       "TenYearCHD           0\n",
       "dtype: int64"
      ]
     },
     "execution_count": 24,
     "metadata": {},
     "output_type": "execute_result"
    }
   ],
   "source": [
    "dataset.isnull().sum()"
   ]
  },
  {
   "cell_type": "code",
   "execution_count": 30,
   "id": "6ada69de",
   "metadata": {},
   "outputs": [],
   "source": [
    "from sklearn.impute import SimpleImputer\n",
    "imputer = SimpleImputer(missing_values=np.nan, strategy='mean')\n",
    "imputer.fit(dataset.iloc[:, 14:15])\n",
    "dataset.iloc[:, 14:15] = imputer.transform(dataset.iloc[:, 14:15])"
   ]
  },
  {
   "cell_type": "code",
   "execution_count": 31,
   "id": "611d0ccb",
   "metadata": {},
   "outputs": [
    {
     "data": {
      "text/plain": [
       "male               0\n",
       "age                0\n",
       "education          0\n",
       "currentSmoker      0\n",
       "cigsPerDay         0\n",
       "BPMeds             0\n",
       "prevalentStroke    0\n",
       "prevalentHyp       0\n",
       "diabetes           0\n",
       "totChol            0\n",
       "sysBP              0\n",
       "diaBP              0\n",
       "BMI                0\n",
       "heartRate          0\n",
       "glucose            0\n",
       "TenYearCHD         0\n",
       "dtype: int64"
      ]
     },
     "execution_count": 31,
     "metadata": {},
     "output_type": "execute_result"
    }
   ],
   "source": [
    "dataset.isnull().sum()"
   ]
  },
  {
   "cell_type": "code",
   "execution_count": 69,
   "id": "d80ffaa5",
   "metadata": {},
   "outputs": [
    {
     "data": {
      "text/html": [
       "<div>\n",
       "<style scoped>\n",
       "    .dataframe tbody tr th:only-of-type {\n",
       "        vertical-align: middle;\n",
       "    }\n",
       "\n",
       "    .dataframe tbody tr th {\n",
       "        vertical-align: top;\n",
       "    }\n",
       "\n",
       "    .dataframe thead th {\n",
       "        text-align: right;\n",
       "    }\n",
       "</style>\n",
       "<table border=\"1\" class=\"dataframe\">\n",
       "  <thead>\n",
       "    <tr style=\"text-align: right;\">\n",
       "      <th></th>\n",
       "      <th>male</th>\n",
       "      <th>age</th>\n",
       "      <th>education</th>\n",
       "      <th>currentSmoker</th>\n",
       "      <th>cigsPerDay</th>\n",
       "      <th>BPMeds</th>\n",
       "      <th>prevalentStroke</th>\n",
       "      <th>prevalentHyp</th>\n",
       "      <th>diabetes</th>\n",
       "      <th>totChol</th>\n",
       "      <th>sysBP</th>\n",
       "      <th>diaBP</th>\n",
       "      <th>BMI</th>\n",
       "      <th>heartRate</th>\n",
       "      <th>glucose</th>\n",
       "      <th>TenYearCHD</th>\n",
       "    </tr>\n",
       "  </thead>\n",
       "  <tbody>\n",
       "    <tr>\n",
       "      <th>male</th>\n",
       "      <td>1.000000</td>\n",
       "      <td>-0.022661</td>\n",
       "      <td>0.012988</td>\n",
       "      <td>0.201365</td>\n",
       "      <td>0.326439</td>\n",
       "      <td>-0.050024</td>\n",
       "      <td>-0.003618</td>\n",
       "      <td>0.007099</td>\n",
       "      <td>0.016915</td>\n",
       "      <td>-0.068606</td>\n",
       "      <td>-0.033550</td>\n",
       "      <td>0.058443</td>\n",
       "      <td>0.078999</td>\n",
       "      <td>-0.115639</td>\n",
       "      <td>0.002927</td>\n",
       "      <td>0.091301</td>\n",
       "    </tr>\n",
       "    <tr>\n",
       "      <th>age</th>\n",
       "      <td>-0.022661</td>\n",
       "      <td>1.000000</td>\n",
       "      <td>-0.160599</td>\n",
       "      <td>-0.213758</td>\n",
       "      <td>-0.190422</td>\n",
       "      <td>0.128390</td>\n",
       "      <td>0.045036</td>\n",
       "      <td>0.304913</td>\n",
       "      <td>0.104718</td>\n",
       "      <td>0.269356</td>\n",
       "      <td>0.390079</td>\n",
       "      <td>0.206722</td>\n",
       "      <td>0.134364</td>\n",
       "      <td>-0.008313</td>\n",
       "      <td>0.113621</td>\n",
       "      <td>0.229569</td>\n",
       "    </tr>\n",
       "    <tr>\n",
       "      <th>education</th>\n",
       "      <td>0.012988</td>\n",
       "      <td>-0.160599</td>\n",
       "      <td>1.000000</td>\n",
       "      <td>0.018366</td>\n",
       "      <td>0.006260</td>\n",
       "      <td>-0.010029</td>\n",
       "      <td>-0.028540</td>\n",
       "      <td>-0.081717</td>\n",
       "      <td>-0.034684</td>\n",
       "      <td>-0.022649</td>\n",
       "      <td>-0.128381</td>\n",
       "      <td>-0.063712</td>\n",
       "      <td>-0.136001</td>\n",
       "      <td>-0.058138</td>\n",
       "      <td>-0.030581</td>\n",
       "      <td>-0.053974</td>\n",
       "    </tr>\n",
       "    <tr>\n",
       "      <th>currentSmoker</th>\n",
       "      <td>0.201365</td>\n",
       "      <td>-0.213758</td>\n",
       "      <td>0.018366</td>\n",
       "      <td>1.000000</td>\n",
       "      <td>0.770785</td>\n",
       "      <td>-0.048925</td>\n",
       "      <td>-0.032537</td>\n",
       "      <td>-0.105285</td>\n",
       "      <td>-0.040233</td>\n",
       "      <td>-0.048969</td>\n",
       "      <td>-0.130845</td>\n",
       "      <td>-0.109655</td>\n",
       "      <td>-0.164752</td>\n",
       "      <td>0.051932</td>\n",
       "      <td>-0.051080</td>\n",
       "      <td>0.022244</td>\n",
       "    </tr>\n",
       "    <tr>\n",
       "      <th>cigsPerDay</th>\n",
       "      <td>0.326439</td>\n",
       "      <td>-0.190422</td>\n",
       "      <td>0.006260</td>\n",
       "      <td>0.770785</td>\n",
       "      <td>1.000000</td>\n",
       "      <td>-0.043958</td>\n",
       "      <td>-0.033948</td>\n",
       "      <td>-0.066404</td>\n",
       "      <td>-0.036184</td>\n",
       "      <td>-0.026239</td>\n",
       "      <td>-0.087924</td>\n",
       "      <td>-0.051174</td>\n",
       "      <td>-0.087372</td>\n",
       "      <td>0.067597</td>\n",
       "      <td>-0.051539</td>\n",
       "      <td>0.059259</td>\n",
       "    </tr>\n",
       "    <tr>\n",
       "      <th>BPMeds</th>\n",
       "      <td>-0.050024</td>\n",
       "      <td>0.128390</td>\n",
       "      <td>-0.010029</td>\n",
       "      <td>-0.048925</td>\n",
       "      <td>-0.043958</td>\n",
       "      <td>1.000000</td>\n",
       "      <td>0.127479</td>\n",
       "      <td>0.259707</td>\n",
       "      <td>0.047630</td>\n",
       "      <td>0.086113</td>\n",
       "      <td>0.260429</td>\n",
       "      <td>0.196103</td>\n",
       "      <td>0.102983</td>\n",
       "      <td>0.016325</td>\n",
       "      <td>0.052774</td>\n",
       "      <td>0.089835</td>\n",
       "    </tr>\n",
       "    <tr>\n",
       "      <th>prevalentStroke</th>\n",
       "      <td>-0.003618</td>\n",
       "      <td>0.045036</td>\n",
       "      <td>-0.028540</td>\n",
       "      <td>-0.032537</td>\n",
       "      <td>-0.033948</td>\n",
       "      <td>0.127479</td>\n",
       "      <td>1.000000</td>\n",
       "      <td>0.067315</td>\n",
       "      <td>0.009539</td>\n",
       "      <td>0.007950</td>\n",
       "      <td>0.055170</td>\n",
       "      <td>0.049318</td>\n",
       "      <td>0.031380</td>\n",
       "      <td>-0.012109</td>\n",
       "      <td>0.015680</td>\n",
       "      <td>0.044821</td>\n",
       "    </tr>\n",
       "    <tr>\n",
       "      <th>prevalentHyp</th>\n",
       "      <td>0.007099</td>\n",
       "      <td>0.304913</td>\n",
       "      <td>-0.081717</td>\n",
       "      <td>-0.105285</td>\n",
       "      <td>-0.066404</td>\n",
       "      <td>0.259707</td>\n",
       "      <td>0.067315</td>\n",
       "      <td>1.000000</td>\n",
       "      <td>0.075064</td>\n",
       "      <td>0.165329</td>\n",
       "      <td>0.693985</td>\n",
       "      <td>0.615394</td>\n",
       "      <td>0.304445</td>\n",
       "      <td>0.151672</td>\n",
       "      <td>0.083585</td>\n",
       "      <td>0.176389</td>\n",
       "    </tr>\n",
       "    <tr>\n",
       "      <th>diabetes</th>\n",
       "      <td>0.016915</td>\n",
       "      <td>0.104718</td>\n",
       "      <td>-0.034684</td>\n",
       "      <td>-0.040233</td>\n",
       "      <td>-0.036184</td>\n",
       "      <td>0.047630</td>\n",
       "      <td>0.009539</td>\n",
       "      <td>0.075064</td>\n",
       "      <td>1.000000</td>\n",
       "      <td>0.044473</td>\n",
       "      <td>0.101061</td>\n",
       "      <td>0.051326</td>\n",
       "      <td>0.082742</td>\n",
       "      <td>0.051474</td>\n",
       "      <td>0.608154</td>\n",
       "      <td>0.089268</td>\n",
       "    </tr>\n",
       "    <tr>\n",
       "      <th>totChol</th>\n",
       "      <td>-0.068606</td>\n",
       "      <td>0.269356</td>\n",
       "      <td>-0.022649</td>\n",
       "      <td>-0.048969</td>\n",
       "      <td>-0.026239</td>\n",
       "      <td>0.086113</td>\n",
       "      <td>0.007950</td>\n",
       "      <td>0.165329</td>\n",
       "      <td>0.044473</td>\n",
       "      <td>1.000000</td>\n",
       "      <td>0.214726</td>\n",
       "      <td>0.172057</td>\n",
       "      <td>0.122963</td>\n",
       "      <td>0.088371</td>\n",
       "      <td>0.047721</td>\n",
       "      <td>0.082359</td>\n",
       "    </tr>\n",
       "    <tr>\n",
       "      <th>sysBP</th>\n",
       "      <td>-0.033550</td>\n",
       "      <td>0.390079</td>\n",
       "      <td>-0.128381</td>\n",
       "      <td>-0.130845</td>\n",
       "      <td>-0.087924</td>\n",
       "      <td>0.260429</td>\n",
       "      <td>0.055170</td>\n",
       "      <td>0.693985</td>\n",
       "      <td>0.101061</td>\n",
       "      <td>0.214726</td>\n",
       "      <td>1.000000</td>\n",
       "      <td>0.785563</td>\n",
       "      <td>0.329719</td>\n",
       "      <td>0.187165</td>\n",
       "      <td>0.129829</td>\n",
       "      <td>0.217395</td>\n",
       "    </tr>\n",
       "    <tr>\n",
       "      <th>diaBP</th>\n",
       "      <td>0.058443</td>\n",
       "      <td>0.206722</td>\n",
       "      <td>-0.063712</td>\n",
       "      <td>-0.109655</td>\n",
       "      <td>-0.051174</td>\n",
       "      <td>0.196103</td>\n",
       "      <td>0.049318</td>\n",
       "      <td>0.615394</td>\n",
       "      <td>0.051326</td>\n",
       "      <td>0.172057</td>\n",
       "      <td>0.785563</td>\n",
       "      <td>1.000000</td>\n",
       "      <td>0.383515</td>\n",
       "      <td>0.182098</td>\n",
       "      <td>0.061477</td>\n",
       "      <td>0.148570</td>\n",
       "    </tr>\n",
       "    <tr>\n",
       "      <th>BMI</th>\n",
       "      <td>0.078999</td>\n",
       "      <td>0.134364</td>\n",
       "      <td>-0.136001</td>\n",
       "      <td>-0.164752</td>\n",
       "      <td>-0.087372</td>\n",
       "      <td>0.102983</td>\n",
       "      <td>0.031380</td>\n",
       "      <td>0.304445</td>\n",
       "      <td>0.082742</td>\n",
       "      <td>0.122963</td>\n",
       "      <td>0.329719</td>\n",
       "      <td>0.383515</td>\n",
       "      <td>1.000000</td>\n",
       "      <td>0.073580</td>\n",
       "      <td>0.079848</td>\n",
       "      <td>0.074007</td>\n",
       "    </tr>\n",
       "    <tr>\n",
       "      <th>heartRate</th>\n",
       "      <td>-0.115639</td>\n",
       "      <td>-0.008313</td>\n",
       "      <td>-0.058138</td>\n",
       "      <td>0.051932</td>\n",
       "      <td>0.067597</td>\n",
       "      <td>0.016325</td>\n",
       "      <td>-0.012109</td>\n",
       "      <td>0.151672</td>\n",
       "      <td>0.051474</td>\n",
       "      <td>0.088371</td>\n",
       "      <td>0.187165</td>\n",
       "      <td>0.182098</td>\n",
       "      <td>0.073580</td>\n",
       "      <td>1.000000</td>\n",
       "      <td>0.092107</td>\n",
       "      <td>0.023009</td>\n",
       "    </tr>\n",
       "    <tr>\n",
       "      <th>glucose</th>\n",
       "      <td>0.002927</td>\n",
       "      <td>0.113621</td>\n",
       "      <td>-0.030581</td>\n",
       "      <td>-0.051080</td>\n",
       "      <td>-0.051539</td>\n",
       "      <td>0.052774</td>\n",
       "      <td>0.015680</td>\n",
       "      <td>0.083585</td>\n",
       "      <td>0.608154</td>\n",
       "      <td>0.047721</td>\n",
       "      <td>0.129829</td>\n",
       "      <td>0.061477</td>\n",
       "      <td>0.079848</td>\n",
       "      <td>0.092107</td>\n",
       "      <td>1.000000</td>\n",
       "      <td>0.117768</td>\n",
       "    </tr>\n",
       "    <tr>\n",
       "      <th>TenYearCHD</th>\n",
       "      <td>0.091301</td>\n",
       "      <td>0.229569</td>\n",
       "      <td>-0.053974</td>\n",
       "      <td>0.022244</td>\n",
       "      <td>0.059259</td>\n",
       "      <td>0.089835</td>\n",
       "      <td>0.044821</td>\n",
       "      <td>0.176389</td>\n",
       "      <td>0.089268</td>\n",
       "      <td>0.082359</td>\n",
       "      <td>0.217395</td>\n",
       "      <td>0.148570</td>\n",
       "      <td>0.074007</td>\n",
       "      <td>0.023009</td>\n",
       "      <td>0.117768</td>\n",
       "      <td>1.000000</td>\n",
       "    </tr>\n",
       "  </tbody>\n",
       "</table>\n",
       "</div>"
      ],
      "text/plain": [
       "                     male       age  education  currentSmoker  cigsPerDay  \\\n",
       "male             1.000000 -0.022661   0.012988       0.201365    0.326439   \n",
       "age             -0.022661  1.000000  -0.160599      -0.213758   -0.190422   \n",
       "education        0.012988 -0.160599   1.000000       0.018366    0.006260   \n",
       "currentSmoker    0.201365 -0.213758   0.018366       1.000000    0.770785   \n",
       "cigsPerDay       0.326439 -0.190422   0.006260       0.770785    1.000000   \n",
       "BPMeds          -0.050024  0.128390  -0.010029      -0.048925   -0.043958   \n",
       "prevalentStroke -0.003618  0.045036  -0.028540      -0.032537   -0.033948   \n",
       "prevalentHyp     0.007099  0.304913  -0.081717      -0.105285   -0.066404   \n",
       "diabetes         0.016915  0.104718  -0.034684      -0.040233   -0.036184   \n",
       "totChol         -0.068606  0.269356  -0.022649      -0.048969   -0.026239   \n",
       "sysBP           -0.033550  0.390079  -0.128381      -0.130845   -0.087924   \n",
       "diaBP            0.058443  0.206722  -0.063712      -0.109655   -0.051174   \n",
       "BMI              0.078999  0.134364  -0.136001      -0.164752   -0.087372   \n",
       "heartRate       -0.115639 -0.008313  -0.058138       0.051932    0.067597   \n",
       "glucose          0.002927  0.113621  -0.030581      -0.051080   -0.051539   \n",
       "TenYearCHD       0.091301  0.229569  -0.053974       0.022244    0.059259   \n",
       "\n",
       "                   BPMeds  prevalentStroke  prevalentHyp  diabetes   totChol  \\\n",
       "male            -0.050024        -0.003618      0.007099  0.016915 -0.068606   \n",
       "age              0.128390         0.045036      0.304913  0.104718  0.269356   \n",
       "education       -0.010029        -0.028540     -0.081717 -0.034684 -0.022649   \n",
       "currentSmoker   -0.048925        -0.032537     -0.105285 -0.040233 -0.048969   \n",
       "cigsPerDay      -0.043958        -0.033948     -0.066404 -0.036184 -0.026239   \n",
       "BPMeds           1.000000         0.127479      0.259707  0.047630  0.086113   \n",
       "prevalentStroke  0.127479         1.000000      0.067315  0.009539  0.007950   \n",
       "prevalentHyp     0.259707         0.067315      1.000000  0.075064  0.165329   \n",
       "diabetes         0.047630         0.009539      0.075064  1.000000  0.044473   \n",
       "totChol          0.086113         0.007950      0.165329  0.044473  1.000000   \n",
       "sysBP            0.260429         0.055170      0.693985  0.101061  0.214726   \n",
       "diaBP            0.196103         0.049318      0.615394  0.051326  0.172057   \n",
       "BMI              0.102983         0.031380      0.304445  0.082742  0.122963   \n",
       "heartRate        0.016325        -0.012109      0.151672  0.051474  0.088371   \n",
       "glucose          0.052774         0.015680      0.083585  0.608154  0.047721   \n",
       "TenYearCHD       0.089835         0.044821      0.176389  0.089268  0.082359   \n",
       "\n",
       "                    sysBP     diaBP       BMI  heartRate   glucose  TenYearCHD  \n",
       "male            -0.033550  0.058443  0.078999  -0.115639  0.002927    0.091301  \n",
       "age              0.390079  0.206722  0.134364  -0.008313  0.113621    0.229569  \n",
       "education       -0.128381 -0.063712 -0.136001  -0.058138 -0.030581   -0.053974  \n",
       "currentSmoker   -0.130845 -0.109655 -0.164752   0.051932 -0.051080    0.022244  \n",
       "cigsPerDay      -0.087924 -0.051174 -0.087372   0.067597 -0.051539    0.059259  \n",
       "BPMeds           0.260429  0.196103  0.102983   0.016325  0.052774    0.089835  \n",
       "prevalentStroke  0.055170  0.049318  0.031380  -0.012109  0.015680    0.044821  \n",
       "prevalentHyp     0.693985  0.615394  0.304445   0.151672  0.083585    0.176389  \n",
       "diabetes         0.101061  0.051326  0.082742   0.051474  0.608154    0.089268  \n",
       "totChol          0.214726  0.172057  0.122963   0.088371  0.047721    0.082359  \n",
       "sysBP            1.000000  0.785563  0.329719   0.187165  0.129829    0.217395  \n",
       "diaBP            0.785563  1.000000  0.383515   0.182098  0.061477    0.148570  \n",
       "BMI              0.329719  0.383515  1.000000   0.073580  0.079848    0.074007  \n",
       "heartRate        0.187165  0.182098  0.073580   1.000000  0.092107    0.023009  \n",
       "glucose          0.129829  0.061477  0.079848   0.092107  1.000000    0.117768  \n",
       "TenYearCHD       0.217395  0.148570  0.074007   0.023009  0.117768    1.000000  "
      ]
     },
     "execution_count": 69,
     "metadata": {},
     "output_type": "execute_result"
    }
   ],
   "source": [
    "dataset.corr()"
   ]
  },
  {
   "cell_type": "code",
   "execution_count": 74,
   "id": "d3f5c3a0",
   "metadata": {},
   "outputs": [
    {
     "data": {
      "application/javascript": [
       "\n",
       "        if (window._pyforest_update_imports_cell) { window._pyforest_update_imports_cell('import seaborn as sns\\nfrom sklearn.model_selection import train_test_split'); }\n",
       "    "
      ],
      "text/plain": [
       "<IPython.core.display.Javascript object>"
      ]
     },
     "metadata": {},
     "output_type": "display_data"
    },
    {
     "data": {
      "text/plain": [
       "Text(0.5, 0, 'Heart Attack risk')"
      ]
     },
     "execution_count": 74,
     "metadata": {},
     "output_type": "execute_result"
    },
    {
     "data": {
      "image/png": "[encoded data removed]",
      "text/plain": [
       "<Figure size 432x288 with 1 Axes>"
      ]
     },
     "metadata": {
      "needs_background": "light"
     },
     "output_type": "display_data"
    }
   ],
   "source": [
    "sns.countplot(data = dataset, x = 'TenYearCHD', palette= 'RdPu')\n",
    "plt.xlabel('Heart Attack risk')"
   ]
  },
  {
   "cell_type": "code",
   "execution_count": 72,
   "id": "bb1c203e",
   "metadata": {},
   "outputs": [
    {
     "data": {
      "application/javascript": [
       "\n",
       "        if (window._pyforest_update_imports_cell) { window._pyforest_update_imports_cell('import seaborn as sns\\nfrom sklearn.model_selection import train_test_split'); }\n",
       "    "
      ],
      "text/plain": [
       "<IPython.core.display.Javascript object>"
      ]
     },
     "metadata": {},
     "output_type": "display_data"
    },
    {
     "data": {
      "text/plain": [
       "<AxesSubplot: >"
      ]
     },
     "execution_count": 72,
     "metadata": {},
     "output_type": "execute_result"
    },
    {
     "data": {
      "image/png": "[encoded data removed]",
      "text/plain": [
       "<Figure size 1152x576 with 2 Axes>"
      ]
     },
     "metadata": {
      "needs_background": "light"
     },
     "output_type": "display_data"
    }
   ],
   "source": [
    "plt.figure(figsize= (16, 8))\n",
    "sns.heatmap(dataset.corr(), annot = True, cmap= 'YlGnBu', fmt= '.2f')"
   ]
  },
  {
   "cell_type": "code",
   "execution_count": 32,
   "id": "20f03179",
   "metadata": {},
   "outputs": [],
   "source": [
    "x = dataset.iloc[:, :-1].values\n",
    "y = dataset.iloc[:, -1].values"
   ]
  },
  {
   "cell_type": "code",
   "execution_count": 33,
   "id": "441ec99f",
   "metadata": {},
   "outputs": [
    {
     "name": "stdout",
     "output_type": "stream",
     "text": [
      "[[  1.          39.           4.         ...  26.97        80.\n",
      "   77.        ]\n",
      " [  0.          46.           2.         ...  28.73        95.\n",
      "   76.        ]\n",
      " [  1.          48.           1.         ...  25.34        75.\n",
      "   70.        ]\n",
      " ...\n",
      " [  1.          51.           3.         ...  19.71        65.\n",
      "   68.        ]\n",
      " [  0.          44.           1.         ...  19.16        86.\n",
      "   81.85612691]\n",
      " [  0.          52.           2.         ...  21.47        80.\n",
      "  107.        ]]\n"
     ]
    }
   ],
   "source": [
    "print(x)"
   ]
  },
  {
   "cell_type": "code",
   "execution_count": 34,
   "id": "006f12fd",
   "metadata": {},
   "outputs": [
    {
     "name": "stdout",
     "output_type": "stream",
     "text": [
      "[0 0 0 ... 0 0 0]\n"
     ]
    }
   ],
   "source": [
    "print(y)"
   ]
  },
  {
   "cell_type": "code",
   "execution_count": 38,
   "id": "2203e4a2",
   "metadata": {},
   "outputs": [
    {
     "data": {
      "application/javascript": [
       "\n",
       "        if (window._pyforest_update_imports_cell) { window._pyforest_update_imports_cell('import seaborn as sns\\nfrom sklearn.model_selection import train_test_split'); }\n",
       "    "
      ],
      "text/plain": [
       "<IPython.core.display.Javascript object>"
      ]
     },
     "metadata": {},
     "output_type": "display_data"
    }
   ],
   "source": [
    "x_train, x_test, y_train, y_test = train_test_split(x, y, test_size = 0.2, random_state = 0)"
   ]
  },
  {
   "cell_type": "code",
   "execution_count": 39,
   "id": "c85c6295",
   "metadata": {},
   "outputs": [],
   "source": [
    "from sklearn.preprocessing import StandardScaler\n",
    "sc = StandardScaler()\n",
    "x_train = sc.fit_transform(x_train)\n",
    "x_test = sc.transform(x_test)"
   ]
  },
  {
   "cell_type": "code",
   "execution_count": 40,
   "id": "e0658d68",
   "metadata": {},
   "outputs": [
    {
     "data": {
      "text/plain": [
       "LogisticRegression(random_state=0)"
      ]
     },
     "execution_count": 40,
     "metadata": {},
     "output_type": "execute_result"
    }
   ],
   "source": [
    "from sklearn.linear_model import LogisticRegression\n",
    "classifier = LogisticRegression(random_state = 0)\n",
    "classifier.fit(x_train, y_train)"
   ]
  },
  {
   "cell_type": "code",
   "execution_count": 41,
   "id": "9ad7b244",
   "metadata": {},
   "outputs": [],
   "source": [
    "y_pred = classifier.predict(x_test)"
   ]
  },
  {
   "cell_type": "code",
   "execution_count": 64,
   "id": "95500eaa",
   "metadata": {},
   "outputs": [
    {
     "name": "stdout",
     "output_type": "stream",
     "text": [
      "Confusion matrix:\n",
      "[[672   8]\n",
      " [109   9]]\n"
     ]
    }
   ],
   "source": [
    "from sklearn.metrics import confusion_matrix\n",
    "accuracy = confusion_matrix(y_test, y_pred)\n",
    "print(\"Confusion matrix:\\n%s\" % accuracy)"
   ]
  },
  {
   "cell_type": "code",
   "execution_count": 66,
   "id": "8bf7078b",
   "metadata": {},
   "outputs": [
    {
     "data": {
      "text/plain": [
       "0.8579492003762935"
      ]
     },
     "execution_count": 66,
     "metadata": {},
     "output_type": "execute_result"
    }
   ],
   "source": [
    "classifier.score(x_train, y_train)"
   ]
  },
  {
   "cell_type": "code",
   "execution_count": 65,
   "id": "83873fc3",
   "metadata": {},
   "outputs": [
    {
     "data": {
      "text/plain": [
       "0.8533834586466166"
      ]
     },
     "execution_count": 65,
     "metadata": {},
     "output_type": "execute_result"
    }
   ],
   "source": [
    "classifier.score(x_test, y_test)"
   ]
  },
  {
   "cell_type": "code",
   "execution_count": 50,
   "id": "df7b9399",
   "metadata": {},
   "outputs": [
    {
     "name": "stdout",
     "output_type": "stream",
     "text": [
      "[[0 0]\n",
      " [0 0]\n",
      " [0 0]\n",
      " ...\n",
      " [0 0]\n",
      " [0 0]\n",
      " [0 0]]\n"
     ]
    }
   ],
   "source": [
    "y_test_v = y_test.reshape(len(y_test), 1)\n",
    "y_pred_v = y_pred.reshape(len(y_pred), 1)\n",
    "\n",
    "print(np.concatenate((y_test_v, y_pred_v), 1))"
   ]
  },
  {
   "cell_type": "code",
   "execution_count": 85,
   "id": "85e856ea",
   "metadata": {},
   "outputs": [],
   "source": [
    "y_pred_d = pd.DataFrame(y_pred, columns = ['y_pred'])\n",
    "y_test_d = pd.DataFrame(y_test, columns = ['y_test'])\n"
   ]
  },
  {
   "cell_type": "code",
   "execution_count": 91,
   "id": "7ab50de4",
   "metadata": {},
   "outputs": [
    {
     "data": {
      "text/html": [
       "<div>\n",
       "<style scoped>\n",
       "    .dataframe tbody tr th:only-of-type {\n",
       "        vertical-align: middle;\n",
       "    }\n",
       "\n",
       "    .dataframe tbody tr th {\n",
       "        vertical-align: top;\n",
       "    }\n",
       "\n",
       "    .dataframe thead th {\n",
       "        text-align: right;\n",
       "    }\n",
       "</style>\n",
       "<table border=\"1\" class=\"dataframe\">\n",
       "  <thead>\n",
       "    <tr style=\"text-align: right;\">\n",
       "      <th></th>\n",
       "      <th>y_test</th>\n",
       "      <th>y_pred</th>\n",
       "    </tr>\n",
       "  </thead>\n",
       "  <tbody>\n",
       "    <tr>\n",
       "      <th>0</th>\n",
       "      <td>0</td>\n",
       "      <td>0</td>\n",
       "    </tr>\n",
       "    <tr>\n",
       "      <th>1</th>\n",
       "      <td>0</td>\n",
       "      <td>0</td>\n",
       "    </tr>\n",
       "    <tr>\n",
       "      <th>2</th>\n",
       "      <td>0</td>\n",
       "      <td>0</td>\n",
       "    </tr>\n",
       "    <tr>\n",
       "      <th>3</th>\n",
       "      <td>0</td>\n",
       "      <td>0</td>\n",
       "    </tr>\n",
       "    <tr>\n",
       "      <th>4</th>\n",
       "      <td>0</td>\n",
       "      <td>0</td>\n",
       "    </tr>\n",
       "    <tr>\n",
       "      <th>...</th>\n",
       "      <td>...</td>\n",
       "      <td>...</td>\n",
       "    </tr>\n",
       "    <tr>\n",
       "      <th>793</th>\n",
       "      <td>0</td>\n",
       "      <td>0</td>\n",
       "    </tr>\n",
       "    <tr>\n",
       "      <th>794</th>\n",
       "      <td>0</td>\n",
       "      <td>0</td>\n",
       "    </tr>\n",
       "    <tr>\n",
       "      <th>795</th>\n",
       "      <td>0</td>\n",
       "      <td>0</td>\n",
       "    </tr>\n",
       "    <tr>\n",
       "      <th>796</th>\n",
       "      <td>0</td>\n",
       "      <td>0</td>\n",
       "    </tr>\n",
       "    <tr>\n",
       "      <th>797</th>\n",
       "      <td>0</td>\n",
       "      <td>0</td>\n",
       "    </tr>\n",
       "  </tbody>\n",
       "</table>\n",
       "<p>798 rows × 2 columns</p>\n",
       "</div>"
      ],
      "text/plain": [
       "     y_test  y_pred\n",
       "0         0       0\n",
       "1         0       0\n",
       "2         0       0\n",
       "3         0       0\n",
       "4         0       0\n",
       "..      ...     ...\n",
       "793       0       0\n",
       "794       0       0\n",
       "795       0       0\n",
       "796       0       0\n",
       "797       0       0\n",
       "\n",
       "[798 rows x 2 columns]"
      ]
     },
     "execution_count": 91,
     "metadata": {},
     "output_type": "execute_result"
    }
   ],
   "source": [
    "test_vs_pred = pd.merge(y_test_d, y_pred_d, left_index = True, right_index = True)\n",
    "test_vs_pred"
   ]
  },
  {
   "cell_type": "code",
   "execution_count": 92,
   "id": "b097f9fa",
   "metadata": {},
   "outputs": [
    {
     "data": {
      "text/plain": [
       "y_pred\n",
       "0         781\n",
       "1          17\n",
       "dtype: int64"
      ]
     },
     "execution_count": 92,
     "metadata": {},
     "output_type": "execute_result"
    }
   ],
   "source": [
    "y_pred_d.value_counts()"
   ]
  },
  {
   "cell_type": "code",
   "execution_count": 93,
   "id": "b107e4cb",
   "metadata": {},
   "outputs": [
    {
     "data": {
      "text/plain": [
       "y_test\n",
       "0         680\n",
       "1         118\n",
       "dtype: int64"
      ]
     },
     "execution_count": 93,
     "metadata": {},
     "output_type": "execute_result"
    }
   ],
   "source": [
    "y_test_d.value_counts()"
   ]
  },
  {
   "cell_type": "code",
   "execution_count": 94,
   "id": "d2533f7d",
   "metadata": {},
   "outputs": [
    {
     "data": {
      "text/plain": [
       "y_test  y_pred\n",
       "0       0         672\n",
       "1       0         109\n",
       "        1           9\n",
       "0       1           8\n",
       "dtype: int64"
      ]
     },
     "execution_count": 94,
     "metadata": {},
     "output_type": "execute_result"
    }
   ],
   "source": [
    "test_vs_pred.value_counts()"
   ]
  },
  {
   "cell_type": "code",
   "execution_count": null,
   "id": "0d7e926a",
   "metadata": {},
   "outputs": [],
   "source": []
  }
 ],
 "metadata": {
  "kernelspec": {
   "display_name": "Python 3 (ipykernel)",
   "language": "python",
   "name": "python3"
  },
  "language_info": {
   "codemirror_mode": {
    "name": "ipython",
    "version": 3
   },
   "file_extension": ".py",
   "mimetype": "text/x-python",
   "name": "python",
   "nbconvert_exporter": "python",
   "pygments_lexer": "ipython3",
   "version": "3.9.12"
  }
 },
 "nbformat": 4,
 "nbformat_minor": 5
}
